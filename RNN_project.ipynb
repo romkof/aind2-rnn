{
 "cells": [
  {
   "cell_type": "markdown",
   "metadata": {},
   "source": [
    "# Artificial Intelligence Nanodegree\n",
    "## Recurrent Neural Network Projects\n",
    "\n",
    "Welcome to the Recurrent Neural Network Project in the Artificial Intelligence Nanodegree! In this notebook, some template code has already been provided for you, and you will need to implement additional functionality to successfully complete this project. You will not need to modify the included code beyond what is requested. Sections that begin with **'Implementation'** in the header indicate that the following block of code will require additional functionality which you must provide. Instructions will be provided for each section and the specifics of the implementation are marked in the code block with a 'TODO' statement. Please be sure to read the instructions carefully!\n",
    "\n",
    ">**Note:** Code and Markdown cells can be executed using the **Shift + Enter** keyboard shortcut. In addition, Markdown cells can be edited by typically double-clicking the cell to enter edit mode."
   ]
  },
  {
   "cell_type": "markdown",
   "metadata": {},
   "source": [
    "### Implementation TODOs in this notebook\n",
    "\n",
    "This notebook contains two problems, cut into a variety of TODOs.  Make sure to complete each section containing a TODO marker throughout the notebook.  For convenience we provide links to each of these sections below.\n",
    "\n",
    "[TODO #1: Implement a function to window time series](#TODO_1)\n",
    "\n",
    "[TODO #2: Create a simple RNN model using keras to perform regression](#TODO_2)\n",
    "\n",
    "[TODO #3: Finish cleaning a large text corpus](#TODO_3)\n",
    "\n",
    "[TODO #4: Implement a function to window a large text corpus](#TODO_4)\n",
    "\n",
    "[TODO #5: Create a simple RNN model using keras to perform multiclass classification](#TODO_5)\n",
    "\n",
    "[TODO #6: Generate text using a fully trained RNN model and a variety of input sequences](#TODO_6)\n"
   ]
  },
  {
   "cell_type": "markdown",
   "metadata": {},
   "source": [
    "# Problem 1: Perform time series prediction \n",
    "\n",
    "In this project you will perform time series prediction using a Recurrent Neural Network regressor.  In particular you will re-create the figure shown in the notes - where the stock price of Apple was forecasted (or predicted) 7 days in advance.  In completing this exercise you will learn how to construct RNNs using Keras, which will also aid in completing the second project in this notebook.\n",
    "\n",
    "The particular network architecture we will employ for our RNN is known as  [Long Term Short Memory (LSTM)](https://en.wikipedia.org/wiki/Long_short-term_memory), which helps significantly avoid technical problems with optimization of RNNs.  "
   ]
  },
  {
   "cell_type": "markdown",
   "metadata": {},
   "source": [
    "## 1.1 Getting started\n",
    "\n",
    "First we must load in our time series - a history of around 140 days of Apple's stock price.  Then we need to perform a number of pre-processing steps to prepare it for use with an RNN model.  First off, it is good practice to normalize time series - by normalizing its range.  This helps us avoid serious numerical issues associated how common activation functions (like tanh) transform very large (positive or negative) numbers, as well as helping us to avoid related issues when computing derivatives.\n",
    "\n",
    "Here we normalize the series to lie in the range [0,1] [using this scikit function](http://scikit-learn.org/stable/modules/generated/sklearn.preprocessing.MinMaxScaler.html), but it is also commonplace to normalize by a series standard deviation."
   ]
  },
  {
   "cell_type": "code",
   "execution_count": 1,
   "metadata": {},
   "outputs": [
    {
     "name": "stderr",
     "output_type": "stream",
     "text": [
      "Using TensorFlow backend.\n"
     ]
    },
    {
     "name": "stdout",
     "output_type": "stream",
     "text": [
      "The autoreload extension is already loaded. To reload it, use:\n",
      "  %reload_ext autoreload\n"
     ]
    }
   ],
   "source": [
    "### Load in necessary libraries for data input and normalization\n",
    "%matplotlib inline\n",
    "import numpy as np\n",
    "import matplotlib.pyplot as plt\n",
    "\n",
    "%load_ext autoreload\n",
    "%autoreload 2\n",
    "\n",
    "from my_answers import *\n",
    "\n",
    "%load_ext autoreload\n",
    "%autoreload 2\n",
    "\n",
    "from my_answers import *\n",
    "\n",
    "### load in and normalize the dataset\n",
    "dataset = np.loadtxt('datasets/normalized_apple_prices.csv')"
   ]
  },
  {
   "cell_type": "markdown",
   "metadata": {},
   "source": [
    "Lets take a quick look at the (normalized) time series we'll be performing predictions on."
   ]
  },
  {
   "cell_type": "code",
   "execution_count": 2,
   "metadata": {},
   "outputs": [
    {
     "data": {
      "text/plain": [
       "<matplotlib.text.Text at 0x7f5b81c0ef98>"
      ]
     },
     "execution_count": 2,
     "metadata": {},
     "output_type": "execute_result"
    },
    {
     "data": {
      "image/png": "[encoded data removed]",
      "text/plain": [
       "<matplotlib.figure.Figure at 0x7f5bd402dc18>"
      ]
     },
     "metadata": {},
     "output_type": "display_data"
    }
   ],
   "source": [
    "# lets take a look at our time series\n",
    "plt.plot(dataset)\n",
    "plt.xlabel('time period')\n",
    "plt.ylabel('normalized series value')"
   ]
  },
  {
   "cell_type": "markdown",
   "metadata": {},
   "source": [
    "## 1.2  Cutting our time series into sequences\n",
    "\n",
    "Remember, our time series is a sequence of numbers that we can represent in general mathematically as \n",
    "\n",
    "$$s_{0},s_{1},s_{2},...,s_{P}$$\n",
    "\n",
    "where $s_{p}$ is the numerical value of the time series at time period $p$ and where $P$ is the total length of the series.  In order to apply our RNN we treat the time series prediction problem as a regression problem, and so need to use a sliding window to construct a set of associated input/output pairs to regress on.  This process is animated in the gif below.\n",
    "\n",
    "<img src=\"images/timeseries_windowing_training.gif\" width=600 height=600/>\n",
    "\n",
    "For example - using a window of size T = 5 (as illustrated in the gif above) we produce a set of input/output pairs like the one shown in the table below\n",
    "\n",
    "$$\\begin{array}{c|c}\n",
    "\\text{Input} & \\text{Output}\\\\\n",
    "\\hline \\color{CornflowerBlue} {\\langle s_{1},s_{2},s_{3},s_{4},s_{5}\\rangle} & \\color{Goldenrod}{ s_{6}} \\\\\n",
    "\\ \\color{CornflowerBlue} {\\langle s_{2},s_{3},s_{4},s_{5},s_{6} \\rangle } & \\color{Goldenrod} {s_{7} } \\\\\n",
    "\\color{CornflowerBlue}  {\\vdots} & \\color{Goldenrod} {\\vdots}\\\\\n",
    "\\color{CornflowerBlue} { \\langle s_{P-5},s_{P-4},s_{P-3},s_{P-2},s_{P-1} \\rangle } & \\color{Goldenrod} {s_{P}}\n",
    "\\end{array}$$\n",
    "\n",
    "Notice here that each input is a sequence (or vector) of length 5 (and in general has length equal to the window size T) while each corresponding output is a scalar value.  Notice also how given a time series of length P and window size T = 5 as shown above, we created P - 5  input/output pairs.  More generally, for a window size T we create P - T such pairs."
   ]
  },
  {
   "cell_type": "markdown",
   "metadata": {},
   "source": [
    "Now its time for you to window the input time series as described above!  \n",
    "\n",
    "<a id='TODO_1'></a>\n",
    "\n",
    "**TODO:** Implement the function called **window_transform_series** in my_answers.py so that it runs a sliding window along the input series and creates associated input/output pairs.    Note that this function should input a) the series and b) the window length, and return the input/output subsequences.  Make sure to format returned input/output as generally shown in table above (where window_size = 5), and make sure your returned input is a numpy array.\n",
    "\n",
    "-----"
   ]
  },
  {
   "cell_type": "markdown",
   "metadata": {},
   "source": [
    "You can test your function on the list of odd numbers given below"
   ]
  },
  {
   "cell_type": "code",
   "execution_count": 3,
   "metadata": {},
   "outputs": [],
   "source": [
    "odd_nums = np.array([1,3,5,7,9,11,13])"
   ]
  },
  {
   "cell_type": "markdown",
   "metadata": {},
   "source": [
    "Here is a hard-coded solution for odd_nums.  You can compare its results with what you get from your **window_transform_series** implementation."
   ]
  },
  {
   "cell_type": "code",
   "execution_count": 4,
   "metadata": {},
   "outputs": [
    {
     "name": "stdout",
     "output_type": "stream",
     "text": [
      "--- the input X will look like ----\n",
      "[[ 1  3]\n",
      " [ 3  5]\n",
      " [ 5  7]\n",
      " [ 7  9]\n",
      " [ 9 11]]\n",
      "--- the associated output y will look like ----\n",
      "[[ 5]\n",
      " [ 7]\n",
      " [ 9]\n",
      " [11]\n",
      " [13]]\n"
     ]
    }
   ],
   "source": [
    "# run a window of size 2 over the odd number sequence and display the results\n",
    "window_size = 2\n",
    "\n",
    "X = []\n",
    "X.append(odd_nums[0:2])\n",
    "X.append(odd_nums[1:3])\n",
    "X.append(odd_nums[2:4])\n",
    "X.append(odd_nums[3:5])\n",
    "X.append(odd_nums[4:6])\n",
    "\n",
    "y = odd_nums[2:]\n",
    "\n",
    "X = np.asarray(X)\n",
    "y = np.asarray(y)\n",
    "y = np.reshape(y, (len(y),1)) #optional\n",
    "\n",
    "assert(type(X).__name__ == 'ndarray')\n",
    "assert(type(y).__name__ == 'ndarray')\n",
    "assert(X.shape == (5,2))\n",
    "assert(y.shape in [(5,1), (5,)])\n",
    "\n",
    "# print out input/output pairs --> here input = X, corresponding output = y\n",
    "print ('--- the input X will look like ----')\n",
    "print (X)\n",
    "\n",
    "print ('--- the associated output y will look like ----')\n",
    "print (y)\n"
   ]
  },
  {
   "cell_type": "markdown",
   "metadata": {},
   "source": [
    "Again - you can check that your completed **window_transform_series** function works correctly by trying it on the odd_nums sequence - you should get the above output."
   ]
  },
  {
   "cell_type": "code",
   "execution_count": 5,
   "metadata": {},
   "outputs": [],
   "source": [
    "### TODO: implement the function window_transform_series in the file my_answers.py\n",
    "from my_answers import window_transform_series"
   ]
  },
  {
   "cell_type": "markdown",
   "metadata": {},
   "source": [
    "With this function in place apply it to the series in the Python cell below.  We use a window_size = 7 for these experiments."
   ]
  },
  {
   "cell_type": "code",
   "execution_count": 6,
   "metadata": {},
   "outputs": [],
   "source": [
    "# window the data using your windowing function\n",
    "window_size = 7\n",
    "X,y = window_transform_series(series = dataset,window_size = window_size)"
   ]
  },
  {
   "cell_type": "markdown",
   "metadata": {},
   "source": [
    "## 1.3  Splitting into training and testing sets\n",
    "\n",
    "In order to perform proper testing on our dataset we will lop off the last 1/3 of it for validation (or testing).  This is that once we train our model we have something to test it on (like any regression problem!).  This splitting into training/testing sets is done in the cell below.\n",
    "\n",
    "Note how here we are **not** splitting the dataset *randomly* as one typically would do when validating a regression model.  This is because our input/output pairs *are related temporally*.   We don't want to validate our model by training on a random subset of the series and then testing on another random subset, as this simulates the scenario that we receive new points *within the timeframe of our training set*.  \n",
    "\n",
    "We want to train on one solid chunk of the series (in our case, the first full 2/3 of it), and validate on a later chunk (the last 1/3) as this simulates how we would predict *future* values of a time series."
   ]
  },
  {
   "cell_type": "code",
   "execution_count": 7,
   "metadata": {},
   "outputs": [],
   "source": [
    "# split our dataset into training / testing sets\n",
    "train_test_split = int(np.ceil(2*len(y)/float(3)))   # set the split point\n",
    "\n",
    "# partition the training set\n",
    "X_train = X[:train_test_split,:]\n",
    "y_train = y[:train_test_split]\n",
    "\n",
    "# keep the last chunk for testing\n",
    "X_test = X[train_test_split:,:]\n",
    "y_test = y[train_test_split:]\n",
    "\n",
    "# NOTE: to use keras's RNN LSTM module our input must be reshaped to [samples, window size, stepsize] \n",
    "X_train = np.asarray(np.reshape(X_train, (X_train.shape[0], window_size, 1)))\n",
    "X_test = np.asarray(np.reshape(X_test, (X_test.shape[0], window_size, 1)))"
   ]
  },
  {
   "cell_type": "markdown",
   "metadata": {},
   "source": [
    "<a id='TODO_2'></a>\n",
    "\n",
    "## 1.4  Build and run an RNN regression model\n",
    "\n",
    "Having created input/output pairs out of our time series and cut this into training/testing sets, we can now begin setting up our RNN.  We use Keras to quickly build a two hidden layer RNN of the following specifications\n",
    "\n",
    "- layer 1 uses an LSTM module with 5 hidden units (note here the input_shape = (window_size,1))\n",
    "- layer 2 uses a fully connected module with one unit\n",
    "- the 'mean_squared_error' loss should be used (remember: we are performing regression here)\n",
    "\n",
    "This can be constructed using just a few lines - see e.g., the [general Keras documentation](https://keras.io/getting-started/sequential-model-guide/) and the [LSTM documentation in particular](https://keras.io/layers/recurrent/) for examples of how to quickly use Keras to build neural network models.  Make sure you are initializing your optimizer given the [keras-recommended approach for RNNs](https://keras.io/optimizers/) \n",
    "\n",
    "(given in the cell below).  (remember to copy your completed function into the script *my_answers.py* function titled *build_part1_RNN* before submitting your project)"
   ]
  },
  {
   "cell_type": "code",
   "execution_count": 8,
   "metadata": {},
   "outputs": [],
   "source": [
    "### TODO: create required RNN model\n",
    "# import keras network libraries\n",
    "from keras.models import Sequential\n",
    "from keras.layers import Dense\n",
    "from keras.layers import LSTM\n",
    "import keras\n",
    "\n",
    "# given - fix random seed - so we can all reproduce the same results on our default time series\n",
    "np.random.seed(0)\n",
    "\n",
    "\n",
    "# TODO: implement build_part1_RNN in my_answers.py\n",
    "from my_answers import build_part1_RNN\n",
    "model = build_part1_RNN(window_size)\n",
    "\n",
    "# build model using keras documentation recommended optimizer initialization\n",
    "optimizer = keras.optimizers.RMSprop(lr=0.001, rho=0.9, epsilon=1e-08, decay=0.0)\n",
    "\n",
    "# compile the model\n",
    "model.compile(loss='mean_squared_error', optimizer=optimizer)"
   ]
  },
  {
   "cell_type": "markdown",
   "metadata": {},
   "source": [
    "With your model built you can now fit the model by activating the cell below!  Note: the number of epochs (np_epochs) and batch_size are preset (so we can all produce the same results).  You can choose to toggle the verbose parameter - which gives you regular updates on the progress of the algorithm - on and off by setting it to 1 or 0 respectively."
   ]
  },
  {
   "cell_type": "code",
   "execution_count": 9,
   "metadata": {},
   "outputs": [
    {
     "data": {
      "text/plain": [
       "<keras.callbacks.History at 0x7f5b736c8da0>"
      ]
     },
     "execution_count": 9,
     "metadata": {},
     "output_type": "execute_result"
    }
   ],
   "source": [
    "# run your model!\n",
    "model.fit(X_train, y_train, epochs=1000, batch_size=50, verbose=0)"
   ]
  },
  {
   "cell_type": "markdown",
   "metadata": {},
   "source": [
    "## 1.5  Checking model performance\n",
    "\n",
    "With your model fit we can now make predictions on both our training and testing sets."
   ]
  },
  {
   "cell_type": "code",
   "execution_count": 10,
   "metadata": {},
   "outputs": [],
   "source": [
    "# generate predictions for training\n",
    "train_predict = model.predict(X_train)\n",
    "test_predict = model.predict(X_test)"
   ]
  },
  {
   "cell_type": "markdown",
   "metadata": {},
   "source": [
    "In the next cell we compute training and testing errors using our trained model - you should be able to achieve at least\n",
    "\n",
    "*training_error* < 0.02\n",
    "\n",
    "and \n",
    "\n",
    "*testing_error* < 0.02\n",
    "\n",
    "with your fully trained model.  \n",
    "\n",
    "If either or both of your accuracies are larger than 0.02 re-train your model - increasing the number of epochs you take (a maximum of around 1,000 should do the job) and/or adjusting your batch_size."
   ]
  },
  {
   "cell_type": "code",
   "execution_count": 11,
   "metadata": {},
   "outputs": [
    {
     "name": "stdout",
     "output_type": "stream",
     "text": [
      "training error = 0.0159066112881\n",
      "testing error = 0.0139784772642\n"
     ]
    }
   ],
   "source": [
    "# print out training and testing errors\n",
    "training_error = model.evaluate(X_train, y_train, verbose=0)\n",
    "print('training error = ' + str(training_error))\n",
    "\n",
    "testing_error = model.evaluate(X_test, y_test, verbose=0)\n",
    "print('testing error = ' + str(testing_error))"
   ]
  },
  {
   "cell_type": "markdown",
   "metadata": {},
   "source": [
    "Activating the next cell plots the original data, as well as both predictions on the training and testing sets. "
   ]
  },
  {
   "cell_type": "code",
   "execution_count": 12,
   "metadata": {},
   "outputs": [
    {
     "data": {
      "image/png": "[encoded data removed]",
      "text/plain": [
       "<matplotlib.figure.Figure at 0x7f5badf2ac50>"
      ]
     },
     "metadata": {},
     "output_type": "display_data"
    }
   ],
   "source": [
    "### Plot everything - the original series as well as predictions on training and testing sets\n",
    "import matplotlib.pyplot as plt\n",
    "%matplotlib inline\n",
    "\n",
    "# plot original series\n",
    "plt.plot(dataset,color = 'k')\n",
    "\n",
    "# plot training set prediction\n",
    "split_pt = train_test_split + window_size \n",
    "plt.plot(np.arange(window_size,split_pt,1),train_predict,color = 'b')\n",
    "\n",
    "# plot testing set prediction\n",
    "plt.plot(np.arange(split_pt,split_pt + len(test_predict),1),test_predict,color = 'r')\n",
    "\n",
    "# pretty up graph\n",
    "plt.xlabel('day')\n",
    "plt.ylabel('(normalized) price of Apple stock')\n",
    "plt.legend(['original series','training fit','testing fit'],loc='center left', bbox_to_anchor=(1, 0.5))\n",
    "plt.show()"
   ]
  },
  {
   "cell_type": "markdown",
   "metadata": {},
   "source": [
    "**Note:** you can try out any time series for this exercise!  If you would like to try another see e.g., [this site containing thousands of time series](https://datamarket.com/data/list/?q=provider%3Atsdl) and pick another one!"
   ]
  },
  {
   "cell_type": "markdown",
   "metadata": {},
   "source": [
    "# Problem 2: Create a sequence generator"
   ]
  },
  {
   "cell_type": "markdown",
   "metadata": {},
   "source": [
    "## 2.1  Getting started\n",
    "\n",
    "In this project you will implement a popular Recurrent Neural Network (RNN) architecture to create an English language sequence generator capable of building semi-coherent English sentences from scratch by building them up character-by-character.  This will require a substantial amount amount of parameter tuning on a large training corpus (at least 100,000 characters long).  In particular for this project we will be using a complete version of Sir Arthur Conan Doyle's classic book The Adventures of Sherlock Holmes.\n",
    "\n",
    "How can we train a machine learning model to generate text automatically, character-by-character?  *By showing the model many training examples so it can learn a pattern between input and output.*  With this type of text generation each input is a string of valid characters like this one\n",
    "\n",
    "*dogs are grea*\n",
    "\n",
    "while the corresponding output is the next character in the sentence - which here is 't' (since the complete sentence is 'dogs are great').  We need to show a model many such examples in order for it to make reasonable predictions.\n",
    "\n",
    "**Fun note:** For those interested in how text generation is being used check out some of the following fun resources:\n",
    "\n",
    "- [Generate wacky sentences](http://www.cs.toronto.edu/~ilya/rnn.html) with this academic RNN text generator\n",
    "\n",
    "- Various twitter bots that tweet automatically generated text like[this one](http://tweet-generator-alex.herokuapp.com/).\n",
    "\n",
    "- the [NanoGenMo](https://github.com/NaNoGenMo/2016) annual contest to automatically produce a 50,000+ novel automatically\n",
    "\n",
    "- [Robot Shakespeare](https://github.com/genekogan/RobotShakespeare) a text generator that automatically produces Shakespear-esk sentences"
   ]
  },
  {
   "cell_type": "markdown",
   "metadata": {},
   "source": [
    "## 2.2  Preprocessing a text dataset\n",
    "\n",
    "Our first task is to get a large text corpus for use in training, and on it we perform a several light pre-processing tasks.  The default corpus we will use is the classic book Sherlock Holmes, but you can use a variety of others as well - so long as they are fairly large (around 100,000 characters or more).  "
   ]
  },
  {
   "cell_type": "code",
   "execution_count": 13,
   "metadata": {},
   "outputs": [
    {
     "name": "stdout",
     "output_type": "stream",
     "text": [
      "our original text has 581864 characters\n"
     ]
    }
   ],
   "source": [
    "# read in the text, transforming everything to lower case\n",
    "text = open('datasets/holmes.txt').read().lower()\n",
    "print('our original text has ' + str(len(text)) + ' characters')"
   ]
  },
  {
   "cell_type": "markdown",
   "metadata": {},
   "source": [
    "Next, lets examine a bit of the raw text.  Because we are interested in creating sentences of English words automatically by building up each word character-by-character, we only want to train on valid English words.  In other words - we need to remove all of the other characters that are not part of English words."
   ]
  },
  {
   "cell_type": "code",
   "execution_count": 14,
   "metadata": {},
   "outputs": [
    {
     "data": {
      "text/plain": [
       "\"\\ufeffproject gutenberg's the adventures of sherlock holmes, by arthur conan doyle\\n\\nthis ebook is for the use of anyone anywhere at no cost and with\\nalmost no restrictions whatsoever.  you may copy it, give it away or\\nre-use it under the terms of the project gutenberg license included\\nwith this ebook or online at www.gutenberg.net\\n\\n\\ntitle: the adventures of sherlock holmes\\n\\nauthor: arthur conan doyle\\n\\nposting date: april 18, 2011 [ebook #1661]\\nfirst posted: november 29, 2002\\n\\nlanguage: english\\n\\n\\n*** start of this project gutenberg ebook the adventures of sherlock holmes ***\\n\\n\\n\\n\\nproduced by an anonymous project gutenberg volunteer and jose menendez\\n\\n\\n\\n\\n\\n\\n\\n\\n\\nthe adventures of sherlock holmes\\n\\nby\\n\\nsir arthur conan doyle\\n\\n\\n\\n   i. a scandal in bohemia\\n  ii. the red-headed league\\n iii. a case of identity\\n  iv. the boscombe valley mystery\\n   v. the five orange pips\\n  vi. the man with the twisted lip\\n vii. the adventure of the blue carbuncle\\nviii. the adventure of the speckled band\\n  ix. the adventure of the engineer's thumb\\n   x. the adventure of the noble bachelor\\n  xi. the adventure of the beryl coronet\\n xii. the adventure of the copper beeches\\n\\n\\n\\n\\nadventure i. a scandal in bohemia\\n\\ni.\\n\\nto sherlock holmes she is always the woman. i have seldom heard\\nhim mention her under any other name. in his eyes she eclipses\\nand predominates the whole of her sex. it was not that he felt\\nany emotion akin to love for irene adler. all emotions, and that\\none particularly, were abhorrent to his cold, precise but\\nadmirably balanced mind. he was, i take it, the most perfect\\nreasoning and observing machine that the world has seen, but as a\\nlover he would have placed himself in a false position. he never\\nspoke of the softer passions, save with a gibe and a sneer. they\\nwere admirable things for the observer--excellent for drawing the\\nveil from men's motives and actions. but for the trained reasoner\\nto admit such intrusions into his own delicate and finely\\nadjusted temperament was to introduce a dist\""
      ]
     },
     "execution_count": 14,
     "metadata": {},
     "output_type": "execute_result"
    }
   ],
   "source": [
    "### print out the first 1000 characters of the raw text to get a sense of what we need to throw out\n",
    "text[:2000]"
   ]
  },
  {
   "cell_type": "markdown",
   "metadata": {},
   "source": [
    "Wow - there's a lot of junk here (i.e., weird uncommon character combinations - as this first character chunk contains the title and author page, as well as table of contents)!  To keep things simple, we want to train our RNN on a large chunk of more typical English sentences - we don't want it to start thinking non-english words or strange characters are valid! - so lets clean up the data a bit.\n",
    "\n",
    "First, since the dataset is so large and the first few hundred characters contain a lot of junk, lets cut it out.  Lets also find-and-replace those newline tags with empty spaces."
   ]
  },
  {
   "cell_type": "code",
   "execution_count": 15,
   "metadata": {},
   "outputs": [],
   "source": [
    "### find and replace '\\n' and '\\r' symbols - replacing them \n",
    "text = text[1302:]\n",
    "text = text.replace('\\n',' ')    # replacing '\\n' with '' simply removes the sequence\n",
    "text = text.replace('\\r',' ')"
   ]
  },
  {
   "cell_type": "markdown",
   "metadata": {},
   "source": [
    "Lets see how the first 1000 characters of our text looks now!"
   ]
  },
  {
   "cell_type": "code",
   "execution_count": 16,
   "metadata": {},
   "outputs": [
    {
     "data": {
      "text/plain": [
       "\"is eyes she eclipses and predominates the whole of her sex. it was not that he felt any emotion akin to love for irene adler. all emotions, and that one particularly, were abhorrent to his cold, precise but admirably balanced mind. he was, i take it, the most perfect reasoning and observing machine that the world has seen, but as a lover he would have placed himself in a false position. he never spoke of the softer passions, save with a gibe and a sneer. they were admirable things for the observer--excellent for drawing the veil from men's motives and actions. but for the trained reasoner to admit such intrusions into his own delicate and finely adjusted temperament was to introduce a distracting factor which might throw a doubt upon all his mental results. grit in a sensitive instrument, or a crack in one of his own high-power lenses, would not be more disturbing than a strong emotion in a nature such as his. and yet there was but one woman to him, and that woman was the late irene ad\""
      ]
     },
     "execution_count": 16,
     "metadata": {},
     "output_type": "execute_result"
    }
   ],
   "source": [
    "### print out the first 1000 characters of the raw text to get a sense of what we need to throw out\n",
    "text[:1000]"
   ]
  },
  {
   "cell_type": "markdown",
   "metadata": {},
   "source": [
    "<a id='TODO_3'></a>\n",
    "\n",
    "#### TODO: finish cleaning the text\n",
    "\n",
    "Lets make sure we haven't left any other atypical characters (commas, periods, etc., are ok) lurking around in the depths of the text.  You can do this by enumerating all the text's unique characters, examining them, and then replacing any unwanted characters with empty spaces!  Once we find all of the text's unique characters, we can remove all of the atypical ones in the next cell.  Note: don't remove the punctuation marks given in my_answers.py."
   ]
  },
  {
   "cell_type": "code",
   "execution_count": 17,
   "metadata": {},
   "outputs": [],
   "source": [
    "### TODO: implement cleaned_text in my_answers.py\n",
    "from my_answers import cleaned_text\n",
    "\n",
    "text = cleaned_text(text)\n",
    "\n",
    "# shorten any extra dead space created above\n",
    "text = text.replace('  ',' ')"
   ]
  },
  {
   "cell_type": "markdown",
   "metadata": {},
   "source": [
    "With your chosen characters removed print out the first few hundred lines again just to double check that everything looks good."
   ]
  },
  {
   "cell_type": "code",
   "execution_count": 18,
   "metadata": {},
   "outputs": [
    {
     "data": {
      "text/plain": [
       "'is eyes she eclipses and predominates the whole of her sex. it was not that he felt any emotion akin to love for irene adler. all emotions, and that one particularly, were abhorrent to his cold, precise but admirably balanced mind. he was, i take it, the most perfect reasoning and observing machine that the world has seen, but as a lover he would have placed himself in a false position. he never spoke of the softer passions, save with a gibe and a sneer. they were admirable things for the observerexcellent for drawing the veil from mens motives and actions. but for the trained reasoner to admit such intrusions into his own delicate and finely adjusted temperament was to introduce a distracting factor which might throw a doubt upon all his mental results. grit in a sensitive instrument, or a crack in one of his own highpower lenses, would not be more disturbing than a strong emotion in a nature such as his. and yet there was but one woman to him, and that woman was the late irene adler, of dubious and questionable memory. i had seen little of holmes lately. my marriage had drifted us away from each other. my own complete happiness, and the homecentred interests which rise up around the man who first finds himself master of his own establishment, were sufficient to absorb all my attention, while holmes, who loathed every form of society with his whole bohemian soul, remained in our lodgings in baker street, buried among his old books, and alternating from week to week between cocaine and ambition, the drowsiness of the drug, and the fierce energy of his own keen nature. he was still, as ever, deeply attracted by the study of crime, and occupied his immense faculties and extraordinary powers of observation in following out those clues, and clearing up those mysteries which had been abandoned as hopeless by the official police. from time to time i heard some vague account of his doings: of his summons to odessa in the case of the trepoff murder, of his clearing up of th'"
      ]
     },
     "execution_count": 18,
     "metadata": {},
     "output_type": "execute_result"
    }
   ],
   "source": [
    "### print out the first 2000 characters of the raw text to get a sense of what we need to throw out\n",
    "text[:2000]"
   ]
  },
  {
   "cell_type": "markdown",
   "metadata": {},
   "source": [
    "Now that we have thrown out a good number of non-English characters/character sequences lets print out some statistics about the dataset - including number of total characters and number of unique characters."
   ]
  },
  {
   "cell_type": "code",
   "execution_count": 19,
   "metadata": {},
   "outputs": [
    {
     "name": "stdout",
     "output_type": "stream",
     "text": [
      "this corpus has 569169 total number of characters\n",
      "this corpus has 33 unique characters\n"
     ]
    }
   ],
   "source": [
    "# count the number of unique characters in the text\n",
    "chars = sorted(list(set(text)))\n",
    "\n",
    "# print some of the text, as well as statistics\n",
    "print (\"this corpus has \" +  str(len(text)) + \" total number of characters\")\n",
    "print (\"this corpus has \" +  str(len(chars)) + \" unique characters\")"
   ]
  },
  {
   "cell_type": "markdown",
   "metadata": {},
   "source": [
    "## 2.3  Cutting data into input/output pairs\n",
    "\n",
    "Now that we have our text all cleaned up, how can we use it to train a model to generate sentences automatically?  First we need to train a machine learning model - and in order to do that we need a set of input/output pairs for a model to train on.  How can we create a set of input/output pairs from our text to train on?\n",
    "\n",
    "Remember in part 1 of this notebook how we used a sliding window to extract input/output pairs from a time series?  We do the same thing here!  We slide a window of length $T$ along our giant text corpus - everything in the window becomes one input while the character following becomes its corresponding output.  This process of extracting input/output pairs is illustrated in the gif below on a small example text using a window size of T = 5.\n",
    "\n",
    "<img src=\"images/text_windowing_training.gif\" width=400 height=400/>\n",
    "\n",
    "Notice one aspect of the sliding window in this gif that does not mirror the analogous gif for time series shown in part 1 of the notebook - we do not need to slide the window along one character at a time but can move by a fixed step size $M$ greater than 1 (in the gif indeed $M = 1$).  This is done with large input texts (like ours which has over 500,000 characters!) when sliding the window along one character at a time we would create far too many input/output pairs to be able to reasonably compute with.\n",
    "\n",
    "More formally lets denote our text corpus - which is one long string of characters - as follows\n",
    "\n",
    "$$s_{0},s_{1},s_{2},...,s_{P}$$\n",
    "\n",
    "where $P$ is the length of the text (again for our text $P \\approx 500,000!$).  Sliding a window of size T = 5 with a step length of M = 1 (these are the parameters shown in the gif above) over this sequence produces the following list of input/output pairs\n",
    "\n",
    "\n",
    "$$\\begin{array}{c|c}\n",
    "\\text{Input} & \\text{Output}\\\\\n",
    "\\hline \\color{CornflowerBlue} {\\langle s_{1},s_{2},s_{3},s_{4},s_{5}\\rangle} & \\color{Goldenrod}{ s_{6}} \\\\\n",
    "\\ \\color{CornflowerBlue} {\\langle s_{2},s_{3},s_{4},s_{5},s_{6} \\rangle } & \\color{Goldenrod} {s_{7} } \\\\\n",
    "\\color{CornflowerBlue}  {\\vdots} & \\color{Goldenrod} {\\vdots}\\\\\n",
    "\\color{CornflowerBlue} { \\langle s_{P-5},s_{P-4},s_{P-3},s_{P-2},s_{P-1} \\rangle } & \\color{Goldenrod} {s_{P}}\n",
    "\\end{array}$$\n",
    "\n",
    "Notice here that each input is a sequence (or vector) of 5 characters (and in general has length equal to the window size T) while each corresponding output is a single character.  We created around P total number of input/output pairs  (for general step size M we create around ceil(P/M) pairs)."
   ]
  },
  {
   "cell_type": "markdown",
   "metadata": {},
   "source": [
    "<a id='TODO_4'></a>\n",
    "\n",
    "Now its time for you to window the input time series as described above! \n",
    "\n",
    "**TODO:** Create a function that runs a sliding window along the input text and creates associated input/output pairs.  A skeleton function has been provided for you.  Note that this function should input a) the text  b) the window size and c) the step size, and return the input/output sequences.  Note: the return items should be *lists* - not numpy arrays.\n",
    "\n",
    "(remember to copy your completed function into the script *my_answers.py* function titled *window_transform_text* before submitting your project)"
   ]
  },
  {
   "cell_type": "code",
   "execution_count": 20,
   "metadata": {},
   "outputs": [],
   "source": [
    "### TODO: implement window_transform_series in my_answers.py\n",
    "from my_answers import window_transform_series"
   ]
  },
  {
   "cell_type": "markdown",
   "metadata": {},
   "source": [
    "With our function complete we can now use it to produce input/output pairs!  We employ the function in the next cell, where the window_size = 50 and step_size = 5."
   ]
  },
  {
   "cell_type": "code",
   "execution_count": 21,
   "metadata": {},
   "outputs": [],
   "source": [
    "# run your text window-ing function \n",
    "window_size = 100\n",
    "step_size = 5\n",
    "inputs, outputs = window_transform_text(text,window_size,step_size)"
   ]
  },
  {
   "cell_type": "markdown",
   "metadata": {},
   "source": [
    "Lets print out a few input/output pairs to verify that we have made the right sort of stuff!"
   ]
  },
  {
   "cell_type": "code",
   "execution_count": 22,
   "metadata": {},
   "outputs": [
    {
     "name": "stdout",
     "output_type": "stream",
     "text": [
      "input = e eclipses and predominates the whole of her sex. it was not that he felt any emotion akin to love f\n",
      "output = o\n",
      "--------------\n",
      "input = erexcellent for drawing the veil from mens motives and actions. but for the trained reasoner to admi\n",
      "output = t\n"
     ]
    }
   ],
   "source": [
    "# print out a few of the input/output pairs to verify that we've made the right kind of stuff to learn from\n",
    "print('input = ' + inputs[2])\n",
    "print('output = ' + outputs[2])\n",
    "print('--------------')\n",
    "print('input = ' + inputs[100])\n",
    "print('output = ' + outputs[100])"
   ]
  },
  {
   "cell_type": "markdown",
   "metadata": {},
   "source": [
    "Looks good!"
   ]
  },
  {
   "cell_type": "markdown",
   "metadata": {},
   "source": [
    "## 2.4  Wait, what kind of problem is text generation again?\n",
    "\n",
    "In part 1 of this notebook we used the same pre-processing technique - the sliding window - to produce a set of training input/output pairs to tackle the problem of time series prediction *by treating the problem as one of regression*.  So what sort of problem do we have here now, with text generation?  Well, the time series prediction was a regression problem because the output (one value of the time series) was a continuous value.  Here - for character-by-character text generation - each output is a *single character*.  This isn't a continuous value - but a distinct class - therefore **character-by-character text generation is a classification problem**.  \n",
    "\n",
    "How many classes are there in the data?  Well, the number of classes is equal to the number of unique characters we have to predict!  How many of those were there in our dataset again?  Lets print out the value again."
   ]
  },
  {
   "cell_type": "code",
   "execution_count": 23,
   "metadata": {},
   "outputs": [
    {
     "name": "stdout",
     "output_type": "stream",
     "text": [
      "this corpus has 33 unique characters\n",
      "and these characters are \n",
      "[' ', '!', ',', '.', ':', ';', '?', 'a', 'b', 'c', 'd', 'e', 'f', 'g', 'h', 'i', 'j', 'k', 'l', 'm', 'n', 'o', 'p', 'q', 'r', 's', 't', 'u', 'v', 'w', 'x', 'y', 'z']\n"
     ]
    }
   ],
   "source": [
    "# print out the number of unique characters in the dataset\n",
    "chars = sorted(list(set(text)))\n",
    "print (\"this corpus has \" +  str(len(chars)) + \" unique characters\")\n",
    "print ('and these characters are ')\n",
    "print (chars)"
   ]
  },
  {
   "cell_type": "markdown",
   "metadata": {},
   "source": [
    "Rockin' - so we have a multiclass classification problem on our hands!"
   ]
  },
  {
   "cell_type": "markdown",
   "metadata": {},
   "source": [
    "## 2.5  One-hot encoding characters\n",
    "\n",
    "The last issue we have to deal with is representing our text data as numerical data so that we can use it as an input to a neural network. One of the conceptually simplest ways of doing this is via a 'one-hot encoding' scheme.  Here's how it works.\n",
    "\n",
    "We transform each character in our inputs/outputs into a vector with length equal to the number of unique characters in our text.  This vector is all zeros except one location where we place a 1 - and this location is unique to each character type.  e.g., we transform 'a', 'b', and 'c' as follows\n",
    "\n",
    "$$a\\longleftarrow\\left[\\begin{array}{c}\n",
    "1\\\\\n",
    "0\\\\\n",
    "0\\\\\n",
    "\\vdots\\\\\n",
    "0\\\\\n",
    "0\n",
    "\\end{array}\\right]\\,\\,\\,\\,\\,\\,\\,b\\longleftarrow\\left[\\begin{array}{c}\n",
    "0\\\\\n",
    "1\\\\\n",
    "0\\\\\n",
    "\\vdots\\\\\n",
    "0\\\\\n",
    "0\n",
    "\\end{array}\\right]\\,\\,\\,\\,\\,c\\longleftarrow\\left[\\begin{array}{c}\n",
    "0\\\\\n",
    "0\\\\\n",
    "1\\\\\n",
    "\\vdots\\\\\n",
    "0\\\\\n",
    "0 \n",
    "\\end{array}\\right]\\cdots$$\n",
    "\n",
    "where each vector has 32 entries (or in general: number of entries = number of unique characters in text)."
   ]
  },
  {
   "cell_type": "markdown",
   "metadata": {},
   "source": [
    "The first practical step towards doing this one-hot encoding is to form a dictionary mapping each unique character to a unique integer, and one dictionary to do the reverse mapping.  We can then use these dictionaries to quickly make our one-hot encodings, as well as re-translate (from integers to characters) the results of our trained RNN classification model."
   ]
  },
  {
   "cell_type": "code",
   "execution_count": 24,
   "metadata": {},
   "outputs": [],
   "source": [
    "# this dictionary is a function mapping each unique character to a unique integer\n",
    "chars_to_indices = dict((c, i) for i, c in enumerate(chars))  # map each unique character to unique integer\n",
    "\n",
    "# this dictionary is a function mapping each unique integer back to a unique character\n",
    "indices_to_chars = dict((i, c) for i, c in enumerate(chars))  # map each unique integer back to unique character"
   ]
  },
  {
   "cell_type": "markdown",
   "metadata": {},
   "source": [
    "Now we can transform our input/output pairs - consisting of characters - to equivalent input/output pairs made up of one-hot encoded vectors.  In the next cell we provide a function for doing just this: it takes in the raw character input/outputs and returns their numerical versions.  In particular the numerical input is given as $\\bf{X}$, and numerical output is given as the $\\bf{y}$"
   ]
  },
  {
   "cell_type": "code",
   "execution_count": 25,
   "metadata": {},
   "outputs": [],
   "source": [
    "# transform character-based input/output into equivalent numerical versions\n",
    "def encode_io_pairs(text,window_size,step_size):\n",
    "    # number of unique chars\n",
    "    chars = sorted(list(set(text)))\n",
    "    num_chars = len(chars)\n",
    "    \n",
    "    # cut up text into character input/output pairs\n",
    "    inputs, outputs = window_transform_text(text,window_size,step_size)\n",
    "    \n",
    "    # create empty vessels for one-hot encoded input/output\n",
    "    X = np.zeros((len(inputs), window_size, num_chars), dtype=np.bool)\n",
    "    y = np.zeros((len(inputs), num_chars), dtype=np.bool)\n",
    "    \n",
    "    # loop over inputs/outputs and transform and store in X/y\n",
    "    for i, sentence in enumerate(inputs):\n",
    "        for t, char in enumerate(sentence):\n",
    "            X[i, t, chars_to_indices[char]] = 1\n",
    "        y[i, chars_to_indices[outputs[i]]] = 1\n",
    "        \n",
    "    return X,y"
   ]
  },
  {
   "cell_type": "markdown",
   "metadata": {},
   "source": [
    "Now run the one-hot encoding function by activating the cell below and transform our input/output pairs!"
   ]
  },
  {
   "cell_type": "code",
   "execution_count": 26,
   "metadata": {},
   "outputs": [],
   "source": [
    "# use your function\n",
    "window_size = 100\n",
    "step_size = 5\n",
    "X,y = encode_io_pairs(text,window_size,step_size)"
   ]
  },
  {
   "cell_type": "markdown",
   "metadata": {},
   "source": [
    "<a id='TODO_5'></a>\n",
    "\n",
    "## 2.6 Setting up our RNN\n",
    "\n",
    "With our dataset loaded and the input/output pairs extracted / transformed we can now begin setting up our RNN for training.  Again we will use Keras to quickly build a single hidden layer RNN - where our hidden layer consists of LSTM modules.\n",
    "\n",
    "Time to get to work: build a 3 layer RNN model of the following specification\n",
    "\n",
    "- layer 1 should be an LSTM module with 200 hidden units --> note this should have input_shape = (window_size,len(chars)) where len(chars) = number of unique characters in your cleaned text\n",
    "- layer 2 should be a linear module, fully connected, with len(chars) hidden units --> where len(chars) = number of unique characters in your cleaned text\n",
    "- layer 3 should be a softmax activation ( since we are solving a *multiclass classification*)\n",
    "- Use the **categorical_crossentropy** loss \n",
    "\n",
    "This network can be constructed using just a few lines - as with the RNN network you made in part 1 of this notebook.  See e.g., the [general Keras documentation](https://keras.io/getting-started/sequential-model-guide/) and the [LSTM documentation in particular](https://keras.io/layers/recurrent/) for examples of how to quickly use Keras to build neural network models."
   ]
  },
  {
   "cell_type": "code",
   "execution_count": 52,
   "metadata": {},
   "outputs": [],
   "source": [
    "### necessary functions from the keras library\n",
    "from keras.models import Sequential\n",
    "from keras.layers import Dense, Activation, LSTM\n",
    "from keras.optimizers import RMSprop\n",
    "from keras.utils.data_utils import get_file\n",
    "import keras\n",
    "import random\n",
    "\n",
    "# TODO implement build_part2_RNN in my_answers.py\n",
    "from my_answers import build_part2_RNN\n",
    "\n",
    "model = build_part2_RNN(window_size, len(chars))\n",
    "\n",
    "# initialize optimizer\n",
    "optimizer = keras.optimizers.RMSprop(lr=0.001, rho=0.9, epsilon=1e-08, decay=0.0)\n",
    "\n",
    "# compile model --> make sure initialized optimizer and callbacks - as defined above - are used\n",
    "model.compile(loss='categorical_crossentropy', optimizer=optimizer)"
   ]
  },
  {
   "cell_type": "markdown",
   "metadata": {},
   "source": [
    "## 2.7  Training our RNN model for text generation\n",
    "\n",
    "With our RNN setup we can now train it!  Lets begin by trying it out on a small subset of the larger version.  In the next cell we take the first 10,000 input/output pairs from our training database to learn on."
   ]
  },
  {
   "cell_type": "code",
   "execution_count": 53,
   "metadata": {},
   "outputs": [],
   "source": [
    "# a small subset of our input/output pairs\n",
    "Xsmall = X[:10000,:,:]\n",
    "ysmall = y[:10000,:]"
   ]
  },
  {
   "cell_type": "markdown",
   "metadata": {},
   "source": [
    "Now lets fit our model!"
   ]
  },
  {
   "cell_type": "code",
   "execution_count": 54,
   "metadata": {},
   "outputs": [
    {
     "name": "stdout",
     "output_type": "stream",
     "text": [
      "Epoch 1/200\n",
      "10000/10000 [==============================] - 4s - loss: 3.0449     \n",
      "Epoch 2/200\n",
      "10000/10000 [==============================] - 4s - loss: 2.8921     \n",
      "Epoch 3/200\n",
      "10000/10000 [==============================] - 4s - loss: 2.8642     \n",
      "Epoch 4/200\n",
      "10000/10000 [==============================] - 4s - loss: 2.8304     \n",
      "Epoch 5/200\n",
      "10000/10000 [==============================] - 4s - loss: 2.7704     \n",
      "Epoch 6/200\n",
      "10000/10000 [==============================] - 4s - loss: 2.6931     \n",
      "Epoch 7/200\n",
      "10000/10000 [==============================] - 4s - loss: 2.6192     \n",
      "Epoch 8/200\n",
      "10000/10000 [==============================] - 4s - loss: 2.5509     \n",
      "Epoch 9/200\n",
      "10000/10000 [==============================] - 4s - loss: 2.4912     \n",
      "Epoch 10/200\n",
      "10000/10000 [==============================] - 4s - loss: 2.4390     \n",
      "Epoch 11/200\n",
      "10000/10000 [==============================] - 4s - loss: 2.3953     \n",
      "Epoch 12/200\n",
      "10000/10000 [==============================] - 4s - loss: 2.3595     \n",
      "Epoch 13/200\n",
      "10000/10000 [==============================] - 4s - loss: 2.3284     \n",
      "Epoch 14/200\n",
      "10000/10000 [==============================] - 4s - loss: 2.2969     \n",
      "Epoch 15/200\n",
      "10000/10000 [==============================] - 4s - loss: 2.2651     \n",
      "Epoch 16/200\n",
      "10000/10000 [==============================] - 4s - loss: 2.2450     \n",
      "Epoch 17/200\n",
      "10000/10000 [==============================] - 4s - loss: 2.2209     \n",
      "Epoch 18/200\n",
      "10000/10000 [==============================] - 4s - loss: 2.2021     \n",
      "Epoch 19/200\n",
      "10000/10000 [==============================] - 4s - loss: 2.1768     \n",
      "Epoch 20/200\n",
      "10000/10000 [==============================] - 4s - loss: 2.1575     \n",
      "Epoch 21/200\n",
      "10000/10000 [==============================] - 4s - loss: 2.1353     \n",
      "Epoch 22/200\n",
      "10000/10000 [==============================] - 4s - loss: 2.1208     \n",
      "Epoch 23/200\n",
      "10000/10000 [==============================] - 4s - loss: 2.0966     \n",
      "Epoch 24/200\n",
      "10000/10000 [==============================] - 4s - loss: 2.0831     \n",
      "Epoch 25/200\n",
      "10000/10000 [==============================] - 4s - loss: 2.0572     \n",
      "Epoch 26/200\n",
      "10000/10000 [==============================] - 4s - loss: 2.0432     \n",
      "Epoch 27/200\n",
      "10000/10000 [==============================] - 4s - loss: 2.0218     \n",
      "Epoch 28/200\n",
      "10000/10000 [==============================] - 4s - loss: 2.0021     \n",
      "Epoch 29/200\n",
      "10000/10000 [==============================] - 4s - loss: 1.9815     \n",
      "Epoch 30/200\n",
      "10000/10000 [==============================] - 4s - loss: 1.9675     \n",
      "Epoch 31/200\n",
      "10000/10000 [==============================] - 4s - loss: 1.9421     \n",
      "Epoch 32/200\n",
      "10000/10000 [==============================] - 4s - loss: 1.9182     \n",
      "Epoch 33/200\n",
      "10000/10000 [==============================] - 4s - loss: 1.8983     \n",
      "Epoch 34/200\n",
      "10000/10000 [==============================] - 4s - loss: 1.8726     \n",
      "Epoch 35/200\n",
      "10000/10000 [==============================] - 4s - loss: 1.8527     \n",
      "Epoch 36/200\n",
      "10000/10000 [==============================] - 4s - loss: 1.8282     \n",
      "Epoch 37/200\n",
      "10000/10000 [==============================] - 4s - loss: 1.8064     \n",
      "Epoch 38/200\n",
      "10000/10000 [==============================] - 4s - loss: 1.7787     \n",
      "Epoch 39/200\n",
      "10000/10000 [==============================] - 4s - loss: 1.7549     \n",
      "Epoch 40/200\n",
      "10000/10000 [==============================] - 4s - loss: 1.7266     \n",
      "Epoch 41/200\n",
      "10000/10000 [==============================] - 4s - loss: 1.6984     \n",
      "Epoch 42/200\n",
      "10000/10000 [==============================] - 4s - loss: 1.6690     \n",
      "Epoch 43/200\n",
      "10000/10000 [==============================] - 4s - loss: 1.6377     \n",
      "Epoch 44/200\n",
      "10000/10000 [==============================] - 4s - loss: 1.6103     \n",
      "Epoch 45/200\n",
      "10000/10000 [==============================] - 4s - loss: 1.5839     \n",
      "Epoch 46/200\n",
      "10000/10000 [==============================] - 4s - loss: 1.5485     \n",
      "Epoch 47/200\n",
      "10000/10000 [==============================] - 4s - loss: 1.5233     \n",
      "Epoch 48/200\n",
      "10000/10000 [==============================] - 4s - loss: 1.4901     \n",
      "Epoch 49/200\n",
      "10000/10000 [==============================] - 4s - loss: 1.4633     \n",
      "Epoch 50/200\n",
      "10000/10000 [==============================] - 4s - loss: 1.4287     \n",
      "Epoch 51/200\n",
      "10000/10000 [==============================] - 4s - loss: 1.3987     \n",
      "Epoch 52/200\n",
      "10000/10000 [==============================] - 4s - loss: 1.3620     \n",
      "Epoch 53/200\n",
      "10000/10000 [==============================] - 4s - loss: 1.3241     \n",
      "Epoch 54/200\n",
      "10000/10000 [==============================] - 4s - loss: 1.3128     \n",
      "Epoch 55/200\n",
      "10000/10000 [==============================] - 4s - loss: 1.2711     \n",
      "Epoch 56/200\n",
      "10000/10000 [==============================] - 4s - loss: 1.2381     \n",
      "Epoch 57/200\n",
      "10000/10000 [==============================] - 4s - loss: 1.2132     \n",
      "Epoch 58/200\n",
      "10000/10000 [==============================] - 4s - loss: 1.1780     \n",
      "Epoch 59/200\n",
      "10000/10000 [==============================] - 4s - loss: 1.1426     \n",
      "Epoch 60/200\n",
      "10000/10000 [==============================] - 4s - loss: 1.1258     \n",
      "Epoch 61/200\n",
      "10000/10000 [==============================] - 4s - loss: 1.0899     \n",
      "Epoch 62/200\n",
      "10000/10000 [==============================] - 4s - loss: 1.0605     \n",
      "Epoch 63/200\n",
      "10000/10000 [==============================] - 4s - loss: 1.0240     \n",
      "Epoch 64/200\n",
      "10000/10000 [==============================] - 4s - loss: 1.0015     \n",
      "Epoch 65/200\n",
      "10000/10000 [==============================] - 4s - loss: 0.9710     \n",
      "Epoch 66/200\n",
      "10000/10000 [==============================] - 4s - loss: 0.9451     \n",
      "Epoch 67/200\n",
      "10000/10000 [==============================] - 4s - loss: 0.9129     \n",
      "Epoch 68/200\n",
      "10000/10000 [==============================] - 4s - loss: 0.8913     \n",
      "Epoch 69/200\n",
      "10000/10000 [==============================] - 4s - loss: 0.8566     \n",
      "Epoch 70/200\n",
      "10000/10000 [==============================] - 4s - loss: 0.8378     \n",
      "Epoch 71/200\n",
      "10000/10000 [==============================] - 4s - loss: 0.8038     \n",
      "Epoch 72/200\n",
      "10000/10000 [==============================] - 4s - loss: 0.7858     \n",
      "Epoch 73/200\n",
      "10000/10000 [==============================] - 4s - loss: 0.7538     \n",
      "Epoch 74/200\n",
      "10000/10000 [==============================] - 4s - loss: 0.7309     \n",
      "Epoch 75/200\n",
      "10000/10000 [==============================] - 4s - loss: 0.7008     \n",
      "Epoch 76/200\n",
      "10000/10000 [==============================] - 4s - loss: 0.6911     \n",
      "Epoch 77/200\n",
      "10000/10000 [==============================] - 4s - loss: 0.6544     \n",
      "Epoch 78/200\n",
      "10000/10000 [==============================] - 4s - loss: 0.6314     \n",
      "Epoch 79/200\n",
      "10000/10000 [==============================] - 4s - loss: 0.6097     \n",
      "Epoch 80/200\n",
      "10000/10000 [==============================] - 4s - loss: 0.5951     \n",
      "Epoch 81/200\n",
      "10000/10000 [==============================] - 4s - loss: 0.5690     \n",
      "Epoch 82/200\n",
      "10000/10000 [==============================] - 4s - loss: 0.5544     \n",
      "Epoch 83/200\n",
      "10000/10000 [==============================] - 4s - loss: 0.5155     \n",
      "Epoch 84/200\n",
      "10000/10000 [==============================] - 4s - loss: 0.5179     \n",
      "Epoch 85/200\n",
      "10000/10000 [==============================] - 4s - loss: 0.4791     \n",
      "Epoch 86/200\n",
      "10000/10000 [==============================] - 4s - loss: 0.4672     \n",
      "Epoch 87/200\n",
      "10000/10000 [==============================] - 4s - loss: 0.4454     \n",
      "Epoch 88/200\n",
      "10000/10000 [==============================] - 4s - loss: 0.4417     \n",
      "Epoch 89/200\n",
      "10000/10000 [==============================] - 4s - loss: 0.4142     \n",
      "Epoch 90/200\n",
      "10000/10000 [==============================] - 4s - loss: 0.3956     \n",
      "Epoch 91/200\n",
      "10000/10000 [==============================] - 4s - loss: 0.3810     \n",
      "Epoch 92/200\n",
      "10000/10000 [==============================] - 4s - loss: 0.3649     \n",
      "Epoch 93/200\n",
      "10000/10000 [==============================] - 4s - loss: 0.3444     \n",
      "Epoch 94/200\n",
      "10000/10000 [==============================] - 4s - loss: 0.3472     \n",
      "Epoch 95/200\n",
      "10000/10000 [==============================] - 4s - loss: 0.3315     \n",
      "Epoch 96/200\n",
      "10000/10000 [==============================] - 4s - loss: 0.3100     \n",
      "Epoch 97/200\n",
      "10000/10000 [==============================] - 4s - loss: 0.2958     \n",
      "Epoch 98/200\n",
      "10000/10000 [==============================] - 4s - loss: 0.2747     \n",
      "Epoch 99/200\n"
     ]
    },
    {
     "name": "stdout",
     "output_type": "stream",
     "text": [
      "10000/10000 [==============================] - 4s - loss: 0.2707     \n",
      "Epoch 100/200\n",
      "10000/10000 [==============================] - 4s - loss: 0.2640     \n",
      "Epoch 101/200\n",
      "10000/10000 [==============================] - 4s - loss: 0.2474     \n",
      "Epoch 102/200\n",
      "10000/10000 [==============================] - 4s - loss: 0.2395     \n",
      "Epoch 103/200\n",
      "10000/10000 [==============================] - 4s - loss: 0.2116     \n",
      "Epoch 104/200\n",
      "10000/10000 [==============================] - 4s - loss: 0.2309     \n",
      "Epoch 105/200\n",
      "10000/10000 [==============================] - 4s - loss: 0.1969     \n",
      "Epoch 106/200\n",
      "10000/10000 [==============================] - 4s - loss: 0.2112     \n",
      "Epoch 107/200\n",
      "10000/10000 [==============================] - 4s - loss: 0.1855     \n",
      "Epoch 108/200\n",
      "10000/10000 [==============================] - 4s - loss: 0.1686     \n",
      "Epoch 109/200\n",
      "10000/10000 [==============================] - 4s - loss: 0.1743     \n",
      "Epoch 110/200\n",
      "10000/10000 [==============================] - 4s - loss: 0.1678     \n",
      "Epoch 111/200\n",
      "10000/10000 [==============================] - 4s - loss: 0.1705     \n",
      "Epoch 112/200\n",
      "10000/10000 [==============================] - 4s - loss: 0.1478     \n",
      "Epoch 113/200\n",
      "10000/10000 [==============================] - 4s - loss: 0.1446     \n",
      "Epoch 114/200\n",
      "10000/10000 [==============================] - 4s - loss: 0.1401     \n",
      "Epoch 115/200\n",
      "10000/10000 [==============================] - 4s - loss: 0.1341     \n",
      "Epoch 116/200\n",
      "10000/10000 [==============================] - 4s - loss: 0.1312     \n",
      "Epoch 117/200\n",
      "10000/10000 [==============================] - 4s - loss: 0.1242     \n",
      "Epoch 118/200\n",
      "10000/10000 [==============================] - 4s - loss: 0.1269     \n",
      "Epoch 119/200\n",
      "10000/10000 [==============================] - 4s - loss: 0.1162     \n",
      "Epoch 120/200\n",
      "10000/10000 [==============================] - 4s - loss: 0.1255     \n",
      "Epoch 121/200\n",
      "10000/10000 [==============================] - 4s - loss: 0.1110     \n",
      "Epoch 122/200\n",
      "10000/10000 [==============================] - 4s - loss: 0.0720     \n",
      "Epoch 123/200\n",
      "10000/10000 [==============================] - 4s - loss: 0.1380     \n",
      "Epoch 124/200\n",
      "10000/10000 [==============================] - 4s - loss: 0.0886     \n",
      "Epoch 125/200\n",
      "10000/10000 [==============================] - 4s - loss: 0.0853     \n",
      "Epoch 126/200\n",
      "10000/10000 [==============================] - 4s - loss: 0.1235     \n",
      "Epoch 127/200\n",
      "10000/10000 [==============================] - 4s - loss: 0.0616     \n",
      "Epoch 128/200\n",
      "10000/10000 [==============================] - 4s - loss: 0.0994     \n",
      "Epoch 129/200\n",
      "10000/10000 [==============================] - 4s - loss: 0.1065     \n",
      "Epoch 130/200\n",
      "10000/10000 [==============================] - 4s - loss: 0.0650     \n",
      "Epoch 131/200\n",
      "10000/10000 [==============================] - 4s - loss: 0.0771     \n",
      "Epoch 132/200\n",
      "10000/10000 [==============================] - 4s - loss: 0.0940     \n",
      "Epoch 133/200\n",
      "10000/10000 [==============================] - 4s - loss: 0.0858     \n",
      "Epoch 134/200\n",
      "10000/10000 [==============================] - 4s - loss: 0.0566     \n",
      "Epoch 135/200\n",
      "10000/10000 [==============================] - 4s - loss: 0.0859     \n",
      "Epoch 136/200\n",
      "10000/10000 [==============================] - 4s - loss: 0.0855     \n",
      "Epoch 137/200\n",
      "10000/10000 [==============================] - 4s - loss: 0.0395     \n",
      "Epoch 138/200\n",
      "10000/10000 [==============================] - 4s - loss: 0.1019     \n",
      "Epoch 139/200\n",
      "10000/10000 [==============================] - 4s - loss: 0.0376     \n",
      "Epoch 140/200\n",
      "10000/10000 [==============================] - 4s - loss: 0.0939     \n",
      "Epoch 141/200\n",
      "10000/10000 [==============================] - 4s - loss: 0.0307     \n",
      "Epoch 142/200\n",
      "10000/10000 [==============================] - 4s - loss: 0.0896     \n",
      "Epoch 143/200\n",
      "10000/10000 [==============================] - 4s - loss: 0.0410     \n",
      "Epoch 144/200\n",
      "10000/10000 [==============================] - 4s - loss: 0.0623     \n",
      "Epoch 145/200\n",
      "10000/10000 [==============================] - 4s - loss: 0.0642     \n",
      "Epoch 146/200\n",
      "10000/10000 [==============================] - 4s - loss: 0.0472     \n",
      "Epoch 147/200\n",
      "10000/10000 [==============================] - 4s - loss: 0.0625     \n",
      "Epoch 148/200\n",
      "10000/10000 [==============================] - 4s - loss: 0.0735     \n",
      "Epoch 149/200\n",
      "10000/10000 [==============================] - 4s - loss: 0.0257     \n",
      "Epoch 150/200\n",
      "10000/10000 [==============================] - 4s - loss: 0.0954     \n",
      "Epoch 151/200\n",
      "10000/10000 [==============================] - 4s - loss: 0.0216     \n",
      "Epoch 152/200\n",
      "10000/10000 [==============================] - 4s - loss: 0.0742     \n",
      "Epoch 153/200\n",
      "10000/10000 [==============================] - 4s - loss: 0.0371     \n",
      "Epoch 154/200\n",
      "10000/10000 [==============================] - 4s - loss: 0.0163     \n",
      "Epoch 155/200\n",
      "10000/10000 [==============================] - 4s - loss: 0.0846     \n",
      "Epoch 156/200\n",
      "10000/10000 [==============================] - 4s - loss: 0.0120     \n",
      "Epoch 157/200\n",
      "10000/10000 [==============================] - 4s - loss: 0.1000     \n",
      "Epoch 158/200\n",
      "10000/10000 [==============================] - 4s - loss: 0.0162     \n",
      "Epoch 159/200\n",
      "10000/10000 [==============================] - 4s - loss: 0.0947     \n",
      "Epoch 160/200\n",
      "10000/10000 [==============================] - 4s - loss: 0.0274     \n",
      "Epoch 161/200\n",
      "10000/10000 [==============================] - 4s - loss: 0.0375     \n",
      "Epoch 162/200\n",
      "10000/10000 [==============================] - 4s - loss: 0.0620     \n",
      "Epoch 163/200\n",
      "10000/10000 [==============================] - 4s - loss: 0.0414     \n",
      "Epoch 164/200\n",
      "10000/10000 [==============================] - 4s - loss: 0.0579     \n",
      "Epoch 165/200\n",
      "10000/10000 [==============================] - 4s - loss: 0.0210     \n",
      "Epoch 166/200\n",
      "10000/10000 [==============================] - 4s - loss: 0.0696     \n",
      "Epoch 167/200\n",
      "10000/10000 [==============================] - 4s - loss: 0.0134     \n",
      "Epoch 168/200\n",
      "10000/10000 [==============================] - 4s - loss: 0.0693     \n",
      "Epoch 169/200\n",
      "10000/10000 [==============================] - 4s - loss: 0.0222     \n",
      "Epoch 170/200\n",
      "10000/10000 [==============================] - 4s - loss: 0.0084     \n",
      "Epoch 171/200\n",
      "10000/10000 [==============================] - 4s - loss: 0.0814     \n",
      "Epoch 172/200\n",
      "10000/10000 [==============================] - 4s - loss: 0.0181     \n",
      "Epoch 173/200\n",
      "10000/10000 [==============================] - 4s - loss: 0.0072     \n",
      "Epoch 174/200\n",
      "10000/10000 [==============================] - 4s - loss: 0.0764     \n",
      "Epoch 175/200\n",
      "10000/10000 [==============================] - 4s - loss: 0.0120     \n",
      "Epoch 176/200\n",
      "10000/10000 [==============================] - 4s - loss: 0.0065     \n",
      "Epoch 177/200\n",
      "10000/10000 [==============================] - 4s - loss: 0.0859     \n",
      "Epoch 178/200\n",
      "10000/10000 [==============================] - 4s - loss: 0.0110     \n",
      "Epoch 179/200\n",
      "10000/10000 [==============================] - 4s - loss: 0.0678     \n",
      "Epoch 180/200\n",
      "10000/10000 [==============================] - 4s - loss: 0.0105     \n",
      "Epoch 181/200\n",
      "10000/10000 [==============================] - 4s - loss: 0.0489     \n",
      "Epoch 182/200\n",
      "10000/10000 [==============================] - 4s - loss: 0.0396     \n",
      "Epoch 183/200\n",
      "10000/10000 [==============================] - 4s - loss: 0.0316     \n",
      "Epoch 184/200\n",
      "10000/10000 [==============================] - 4s - loss: 0.0180     \n",
      "Epoch 185/200\n",
      "10000/10000 [==============================] - 4s - loss: 0.0548     \n",
      "Epoch 186/200\n",
      "10000/10000 [==============================] - 4s - loss: 0.0153     \n",
      "Epoch 187/200\n",
      "10000/10000 [==============================] - 4s - loss: 0.0060     \n",
      "Epoch 188/200\n",
      "10000/10000 [==============================] - 4s - loss: 0.0855     \n",
      "Epoch 189/200\n",
      "10000/10000 [==============================] - 4s - loss: 0.0084     \n",
      "Epoch 190/200\n",
      "10000/10000 [==============================] - 4s - loss: 0.0046     \n",
      "Epoch 191/200\n",
      "10000/10000 [==============================] - 4s - loss: 0.0746     \n",
      "Epoch 192/200\n",
      "10000/10000 [==============================] - 4s - loss: 0.0161     \n",
      "Epoch 193/200\n",
      "10000/10000 [==============================] - 4s - loss: 0.0127     \n",
      "Epoch 194/200\n",
      "10000/10000 [==============================] - 4s - loss: 0.0513     \n",
      "Epoch 195/200\n",
      "10000/10000 [==============================] - 4s - loss: 0.0453     \n",
      "Epoch 196/200\n"
     ]
    },
    {
     "name": "stdout",
     "output_type": "stream",
     "text": [
      "10000/10000 [==============================] - 4s - loss: 0.0195     \n",
      "Epoch 197/200\n",
      "10000/10000 [==============================] - 4s - loss: 0.0299     \n",
      "Epoch 198/200\n",
      "10000/10000 [==============================] - 4s - loss: 0.0463     \n",
      "Epoch 199/200\n",
      "10000/10000 [==============================] - 4s - loss: 0.0353     \n",
      "Epoch 200/200\n",
      "10000/10000 [==============================] - 4s - loss: 0.0330     \n"
     ]
    }
   ],
   "source": [
    "# train the model\n",
    "model.fit(Xsmall, ysmall, batch_size=500, epochs=200,verbose = 1)\n",
    "\n",
    "# save weights\n",
    "model.save_weights('model_weights/best_RNN_small_textdata_weights.hdf5')"
   ]
  },
  {
   "cell_type": "markdown",
   "metadata": {},
   "source": [
    "How do we make a given number of predictions (characters) based on this fitted model?   \n",
    "\n",
    "First we predict the next character after following any chunk of characters in the text of length equal to our chosen window size.  Then we remove the first character in our input sequence and tack our prediction onto the end.  This gives us a slightly changed sequence of inputs that still has length equal to the size of our window.  We then feed in this updated input sequence into the model to predict the another character.  Together then we have two predicted characters following our original input sequence.  Repeating this process N times gives us N predicted characters.\n",
    "\n",
    "In the next Python cell we provide you with a completed function that does just this - it makes predictions when given a) a trained RNN model, b) a subset of (window_size) characters from the text, and c) a number of characters to predict (to follow our input subset)."
   ]
  },
  {
   "cell_type": "code",
   "execution_count": 55,
   "metadata": {},
   "outputs": [],
   "source": [
    "# function that uses trained model to predict a desired number of future characters\n",
    "def predict_next_chars(model,input_chars,num_to_predict):     \n",
    "    # create output\n",
    "    predicted_chars = ''\n",
    "    for i in range(num_to_predict):\n",
    "        # convert this round's predicted characters to numerical input    \n",
    "        x_test = np.zeros((1, window_size, len(chars)))\n",
    "        for t, char in enumerate(input_chars):\n",
    "            x_test[0, t, chars_to_indices[char]] = 1.\n",
    "\n",
    "        # make this round's prediction\n",
    "        test_predict = model.predict(x_test,verbose = 0)[0]\n",
    "\n",
    "        # translate numerical prediction back to characters\n",
    "        r = np.argmax(test_predict)                           # predict class of each test input\n",
    "        d = indices_to_chars[r] \n",
    "\n",
    "        # update predicted_chars and input\n",
    "        predicted_chars+=d\n",
    "        input_chars+=d\n",
    "        input_chars = input_chars[1:]\n",
    "    return predicted_chars"
   ]
  },
  {
   "cell_type": "markdown",
   "metadata": {},
   "source": [
    "<a id='TODO_6'></a>\n",
    "\n",
    "With your trained model try a few subsets of the complete text as input - note the length of each must be exactly equal to the window size.  For each subset use the function above to predict the next 100 characters that follow each input."
   ]
  },
  {
   "cell_type": "code",
   "execution_count": 56,
   "metadata": {
    "scrolled": true
   },
   "outputs": [
    {
     "name": "stdout",
     "output_type": "stream",
     "text": [
      "------------------\n",
      "input chars = \n",
      "es she eclipses and predominates the whole of her sex. it was not that he felt any emotion akin to l\"\n",
      "\n",
      "predicted chars = \n",
      "oom mpol. she ladd he pond to the share whe ked wist ould seve bush uhe wack whe mas wist lait he la\"\n",
      "\n",
      "------------------\n",
      "input chars = \n",
      "predominates the whole of her sex. it was not that he felt any emotion akin to love for irene adler.\"\n",
      "\n",
      "predicted chars = \n",
      " ar deen ourtssen ghish do rroon my hid soreton nowhthe rist and reolld seellyore shellengrrengwere \"\n",
      "\n",
      "------------------\n",
      "input chars = \n",
      " all emotions, and that one particularly, were abhorrent to his cold, precise but admirably balanced\"\n",
      "\n",
      "predicted chars = \n",
      " of guith mo. in in the may woou, and the caink oo too hou hore silllye. stoll. whe sheed be appello\"\n",
      "\n",
      "------------------\n",
      "input chars = \n",
      "most perfect reasoning and observing machine that the world has seen, but as a lover he would have p\"\n",
      "\n",
      "predicted chars = \n",
      "lat to nomn the saress on i signd cores, wish wish yeur, coumhe out the the bind woot doursing hay v\"\n",
      "\n",
      "------------------\n",
      "input chars = \n",
      "actions. but for the trained reasoner to admit such intrusions into his own delicate and finely adju\"\n",
      "\n",
      "predicted chars = \n",
      "ss yo  roce anderean whoo hor begund as is frrend here besareng mromined hed av an a merted ithad d \"\n",
      "\n",
      "------------------\n",
      "input chars = \n",
      "ow a doubt upon all his mental results. grit in a sensitive instrument, or a crack in one of his own\"\n",
      "\n",
      "predicted chars = \n",
      " youremps yoo houththe wist me tares of hom hould her bencabbend broch of the biitht shere chchmsed \"\n",
      "\n",
      "------------------\n",
      "input chars = \n",
      " atkinson brothers at trincomalee, and finally of the mission which he had accomplished so delicatel\"\n",
      "\n",
      "predicted chars = \n",
      "y me assere foreded wish a drited the gaigh. foully was mund ar the lend go noo ber tho heod wist me\"\n",
      "\n",
      "------------------\n",
      "input chars = \n",
      "specimen of the london slavey. as to your practice, if a gentleman walks into my rooms smelling of i\"\n",
      "\n",
      "predicted chars = \n",
      "our the oust she wist ureastent. it is fouthe lofgre shawe rown i wishin thet. it is you dave a poot\"\n",
      "\n"
     ]
    }
   ],
   "source": [
    "# TODO: choose an input sequence and use the prediction function in the previous Python cell to predict 100 characters following it\n",
    "# get an appropriately sized chunk of characters from the text\n",
    "start_inds = [5, 25, 125, 255, 555 , 725, 2025, 5025 ]\n",
    "\n",
    "# load in weights\n",
    "model.load_weights('model_weights/best_RNN_small_textdata_weights.hdf5')\n",
    "for s in start_inds:\n",
    "    start_index = s\n",
    "    input_chars = text[start_index: start_index + window_size]\n",
    "\n",
    "    # use the prediction function\n",
    "    predict_input = predict_next_chars(model,input_chars,num_to_predict = 100)\n",
    "\n",
    "    # print out input characters\n",
    "    print('------------------')\n",
    "    input_line = 'input chars = ' + '\\n' +  input_chars + '\"' + '\\n'\n",
    "    print(input_line)\n",
    "\n",
    "    # print out predicted characters\n",
    "    line = 'predicted chars = ' + '\\n' +  predict_input + '\"' + '\\n'\n",
    "    print(line)"
   ]
  },
  {
   "cell_type": "markdown",
   "metadata": {},
   "source": [
    "This looks ok, but not great.  Now lets try the same experiment with a larger chunk of the data - with the first 100,000 input/output pairs.  \n",
    "\n",
    "Tuning RNNs for a typical character dataset like the one we will use here is a computationally intensive endeavour and thus timely on a typical CPU.  Using a reasonably sized cloud-based GPU can speed up training by a factor of 10.  Also because of the long training time it is highly recommended that you carefully write the output of each step of your process to file.  This is so that all of your results are saved even if you close the web browser you're working out of, as the processes will continue processing in the background but variables/output in the notebook system will not update when you open it again.\n",
    "\n",
    "In the next cell we show you how to create a text file in Python and record data to it.  This sort of setup can be used to record your final predictions."
   ]
  },
  {
   "cell_type": "code",
   "execution_count": 57,
   "metadata": {},
   "outputs": [
    {
     "data": {
      "text/plain": [
       "'this is only a test \\nthe value of x is 2\\n'"
      ]
     },
     "execution_count": 57,
     "metadata": {},
     "output_type": "execute_result"
    }
   ],
   "source": [
    "### A simple way to write output to file\n",
    "f = open('my_test_output.txt', 'w')              # create an output file to write too\n",
    "f.write('this is only a test ' + '\\n')           # print some output text\n",
    "x = 2\n",
    "f.write('the value of x is ' + str(x) + '\\n')    # record a variable value\n",
    "f.close()     \n",
    "\n",
    "# print out the contents of my_test_output.txt\n",
    "f = open('my_test_output.txt', 'r')              # create an output file to write too\n",
    "f.read()"
   ]
  },
  {
   "cell_type": "markdown",
   "metadata": {},
   "source": [
    "With this recording devices we can now more safely perform experiments on larger portions of the text.  In the next cell we will use the first 100,000 input/output pairs to train our RNN model."
   ]
  },
  {
   "cell_type": "markdown",
   "metadata": {},
   "source": [
    "First we fit our model to the dataset, then generate text using the trained model in precisely the same generation method applied before on the small dataset.\n",
    "\n",
    "**Note:** your generated words should be - by and large - more realistic than with the small dataset, but you won't be able to generate perfect English sentences even with this amount of data.  A rule of thumb: your model is working well if you generate sentences that largely contain real English words."
   ]
  },
  {
   "cell_type": "code",
   "execution_count": 58,
   "metadata": {},
   "outputs": [
    {
     "name": "stdout",
     "output_type": "stream",
     "text": [
      "Epoch 1/30\n",
      "100000/100000 [==============================] - 44s - loss: 2.1896    \n",
      "Epoch 2/30\n",
      "100000/100000 [==============================] - 44s - loss: 1.8870    \n",
      "Epoch 3/30\n",
      "100000/100000 [==============================] - 44s - loss: 1.8089    \n",
      "Epoch 4/30\n",
      "100000/100000 [==============================] - 44s - loss: 1.7499    \n",
      "Epoch 5/30\n",
      "100000/100000 [==============================] - 45s - loss: 1.6993    \n",
      "Epoch 6/30\n",
      "100000/100000 [==============================] - 44s - loss: 1.6558    \n",
      "Epoch 7/30\n",
      "100000/100000 [==============================] - 44s - loss: 1.6155    \n",
      "Epoch 8/30\n",
      "100000/100000 [==============================] - 44s - loss: 1.5790    \n",
      "Epoch 9/30\n",
      "100000/100000 [==============================] - 44s - loss: 1.5435    \n",
      "Epoch 10/30\n",
      "100000/100000 [==============================] - 45s - loss: 1.5099    \n",
      "Epoch 11/30\n",
      "100000/100000 [==============================] - 44s - loss: 1.4780    \n",
      "Epoch 12/30\n",
      "100000/100000 [==============================] - 44s - loss: 1.4466    \n",
      "Epoch 13/30\n",
      "100000/100000 [==============================] - 44s - loss: 1.4169    \n",
      "Epoch 14/30\n",
      "100000/100000 [==============================] - 44s - loss: 1.3852    \n",
      "Epoch 15/30\n",
      "100000/100000 [==============================] - 44s - loss: 1.3560    \n",
      "Epoch 16/30\n",
      "100000/100000 [==============================] - 45s - loss: 1.3263    \n",
      "Epoch 17/30\n",
      "100000/100000 [==============================] - 44s - loss: 1.2968    \n",
      "Epoch 18/30\n",
      "100000/100000 [==============================] - 44s - loss: 1.2665    \n",
      "Epoch 19/30\n",
      "100000/100000 [==============================] - 44s - loss: 1.2372    \n",
      "Epoch 20/30\n",
      "100000/100000 [==============================] - 44s - loss: 1.2078    \n",
      "Epoch 21/30\n",
      "100000/100000 [==============================] - 44s - loss: 1.1776    \n",
      "Epoch 22/30\n",
      "100000/100000 [==============================] - 44s - loss: 1.1483    \n",
      "Epoch 23/30\n",
      "100000/100000 [==============================] - 44s - loss: 1.1173    \n",
      "Epoch 24/30\n",
      "100000/100000 [==============================] - 44s - loss: 1.0904    \n",
      "Epoch 25/30\n",
      "100000/100000 [==============================] - 45s - loss: 1.0615    \n",
      "Epoch 26/30\n",
      "100000/100000 [==============================] - 45s - loss: 1.0313    \n",
      "Epoch 27/30\n",
      "100000/100000 [==============================] - 44s - loss: 1.0018    \n",
      "Epoch 28/30\n",
      "100000/100000 [==============================] - 44s - loss: 0.9736    \n",
      "Epoch 29/30\n",
      "100000/100000 [==============================] - 44s - loss: 0.9459    \n",
      "Epoch 30/30\n",
      "100000/100000 [==============================] - 44s - loss: 0.9168    \n"
     ]
    }
   ],
   "source": [
    "# a small subset of our input/output pairs\n",
    "Xlarge = X[:100000,:,:]\n",
    "ylarge = y[:100000,:]\n",
    "\n",
    "# TODO: fit to our larger dataset\n",
    "model.fit(Xlarge, ylarge, batch_size=500, epochs=30, verbose=1)\n",
    "\n",
    "# save weights\n",
    "model.save_weights('model_weights/best_RNN_large_textdata_weights.hdf5')"
   ]
  },
  {
   "cell_type": "code",
   "execution_count": 59,
   "metadata": {},
   "outputs": [
    {
     "name": "stdout",
     "output_type": "stream",
     "text": [
      "-------------------\n",
      "\n",
      "input chars = \n",
      "es she eclipses and predominates the whole of her sex. it was not that he felt any emotion akin to l\"\n",
      "\n",
      "predicted chars = \n",
      "ook that the would not see the thres was the street to me that i had been upon that i shall was the \"\n",
      "\n",
      "-------------------\n",
      "\n",
      "input chars = \n",
      "predominates the whole of her sex. it was not that he felt any emotion akin to love for irene adler.\"\n",
      "\n",
      "predicted chars = \n",
      " then the man showed he proned the last which we had found to hear the extime that he was were in th\"\n",
      "\n",
      "-------------------\n",
      "\n",
      "input chars = \n",
      " all emotions, and that one particularly, were abhorrent to his cold, precise but admirably balanced\"\n",
      "\n",
      "predicted chars = \n",
      " of the will cave a common lone matter. it was not geve my desing the table was pasting that he was \"\n",
      "\n",
      "-------------------\n",
      "\n",
      "input chars = \n",
      "most perfect reasoning and observing machine that the world has seen, but as a lover he would have p\"\n",
      "\n",
      "predicted chars = \n",
      "art and manter but the word was a man in the will was the coroner which we had for that it is not th\"\n",
      "\n",
      "-------------------\n",
      "\n",
      "input chars = \n",
      "actions. but for the trained reasoner to admit such intrusions into his own delicate and finely adju\"\n",
      "\n",
      "predicted chars = \n",
      "st and glassing person the country was a way which mest to be about the facts in the who was instant\"\n",
      "\n",
      "-------------------\n",
      "\n",
      "input chars = \n",
      "ow a doubt upon all his mental results. grit in a sensitive instrument, or a crack in one of his own\"\n",
      "\n",
      "predicted chars = \n",
      " sime. i have good been your to me condess. ohe sair he follow, down the onded of the windows, who h\"\n",
      "\n",
      "-------------------\n",
      "\n",
      "input chars = \n",
      " atkinson brothers at trincomalee, and finally of the mission which he had accomplished so delicatel\"\n",
      "\n",
      "predicted chars = \n",
      "y return and he was driven to be a cruss of the grought the lady. i shall be the bed of a posiceatio\"\n",
      "\n",
      "-------------------\n",
      "\n",
      "input chars = \n",
      "specimen of the london slavey. as to your practice, if a gentleman walks into my rooms smelling of i\"\n",
      "\n",
      "predicted chars = \n",
      "or i should how lave to de the the would not be the present of the way was the carrie of my were. sh\"\n",
      "\n"
     ]
    }
   ],
   "source": [
    "# TODO: choose an input sequence and use the prediction function in the previous Python cell to predict 100 characters following it\n",
    "# get an appropriately sized chunk of characters from the text\n",
    "start_inds = [5, 25, 125, 255, 555 , 725, 2025, 5025 ]\n",
    "\n",
    "# save output\n",
    "f = open('text_gen_output/RNN_large_textdata_output.txt', 'w')  # create an output file to write too\n",
    "\n",
    "# load weights\n",
    "model.load_weights('model_weights/best_RNN_large_textdata_weights.hdf5')\n",
    "for s in start_inds:\n",
    "    start_index = s\n",
    "    input_chars = text[start_index: start_index + window_size]\n",
    "\n",
    "    # use the prediction function\n",
    "    predict_input = predict_next_chars(model,input_chars,num_to_predict = 100)\n",
    "\n",
    "    # print out input characters\n",
    "    line = '-------------------' + '\\n'\n",
    "    print(line)\n",
    "    f.write(line)\n",
    "\n",
    "    input_line = 'input chars = ' + '\\n' +  input_chars + '\"' + '\\n'\n",
    "    print(input_line)\n",
    "    f.write(input_line)\n",
    "\n",
    "    # print out predicted characters\n",
    "    predict_line = 'predicted chars = ' + '\\n' +  predict_input + '\"' + '\\n'\n",
    "    print(predict_line)\n",
    "    f.write(predict_line)\n",
    "f.close()"
   ]
  },
  {
   "cell_type": "code",
   "execution_count": null,
   "metadata": {},
   "outputs": [],
   "source": []
  }
 ],
 "metadata": {
  "anaconda-cloud": {},
  "kernelspec": {
   "display_name": "Python 3",
   "language": "python",
   "name": "python3"
  },
  "language_info": {
   "codemirror_mode": {
    "name": "ipython",
    "version": 3
   },
   "file_extension": ".py",
   "mimetype": "text/x-python",
   "name": "python",
   "nbconvert_exporter": "python",
   "pygments_lexer": "ipython3",
   "version": "3.5.2"
  }
 },
 "nbformat": 4,
 "nbformat_minor": 1
}
